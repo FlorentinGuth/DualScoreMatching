{
 "cells": [
  {
   "cell_type": "markdown",
   "id": "765b7c45",
   "metadata": {},
   "source": [
    "# Comparing energy vs denoiser model"
   ]
  },
  {
   "cell_type": "code",
   "execution_count": 68,
   "id": "fc6d6c83",
   "metadata": {},
   "outputs": [
    {
     "name": "stdout",
     "output_type": "stream",
     "text": [
      "The autoreload extension is already loaded. To reload it, use:\n",
      "  %reload_ext autoreload\n"
     ]
    }
   ],
   "source": [
    "%load_ext autoreload\n",
    "%autoreload 2\n",
    "\n",
    "import numpy as np\n",
    "from matplotlib import pyplot as plt\n",
    "import torch\n",
    "\n",
    "from tqdm.notebook import tqdm, trange\n",
    "\n",
    "from main import *\n",
    "\n",
    "params = {\n",
    "      'text.usetex': True,\n",
    "      'font.family': 'sans serif'\n",
    "}\n",
    "matplotlib.rcParams.update(params)"
   ]
  },
  {
   "cell_type": "markdown",
   "id": "d2954c3a",
   "metadata": {},
   "source": [
    "## Load two models"
   ]
  },
  {
   "cell_type": "code",
   "execution_count": 65,
   "id": "3d3a9d23",
   "metadata": {},
   "outputs": [
    {
     "name": "stdout",
     "output_type": "stream",
     "text": [
      "finalclean_imagenet64_color_lr0.0005_1Msteps10decays: retrieved model at step 1000000 and test loss 4.22e-01\n",
      "finalclean_imagenet64_color_denoiser_psco_lr0.0005_1Msteps10decays: retrieved model at step 1000000 and test loss 4.11e-01\n"
     ]
    },
    {
     "name": "stderr",
     "output_type": "stream",
     "text": [
      "/mnt/home/fguth/venvs/default/lib/python3.11/site-packages/torchvision/transforms/v2/_deprecated.py:43: UserWarning: The transform `ToTensor()` is deprecated and will be removed in a future release. Instead, please use `v2.Compose([v2.ToImage(), v2.ToDtype(torch.float32, scale=True)])`.\n",
      "  warnings.warn(\n"
     ]
    }
   ],
   "source": [
    "def load_exp(name, step=\"last\", log=True, dataloaders=False):\n",
    "    \"\"\" Load an experiment with a given name. step can be an integer, \"best\", or \"last\" (default). \"\"\"\n",
    "    exp_dir = Path(\"models\") / name\n",
    "\n",
    "    with open(exp_dir / \"args.json\") as f:\n",
    "        args_dict = json.load(f)\n",
    "\n",
    "    ctx = TrainingContext(**args_dict, step=step, key_remap=None, seed=None, dataloaders=dataloaders, writer=False)\n",
    "    if log:\n",
    "        print(f\"{name}: retrieved model at step {ctx.step} and test loss {ctx.test_perf.loss:.2e}\")\n",
    "\n",
    "    # Disable DataParallel (needed for Hessian computation)\n",
    "    ctx.model.network = ctx.model.network.module\n",
    "\n",
    "    # Put in eval mode and disable gradients with respect to all parameters.\n",
    "    ctx.model.eval()\n",
    "    for p in ctx.model.parameters():\n",
    "        p.requires_grad = False\n",
    "\n",
    "    # Normalize energies.\n",
    "    ctx.network.network.log_normalization_constant = ctx.test_perf.log_normalization_constant\n",
    "\n",
    "    return ctx\n",
    "\n",
    "ctxs = {\n",
    "    \"energy\": load_exp(\"finalclean_imagenet64_color_lr0.0005_1Msteps10decays\"),\n",
    "    \"denoiser\": load_exp(\"finalclean_imagenet64_color_denoiser_psco_lr0.0005_1Msteps10decays\"),\n",
    "}\n",
    "default_ctx = ctxs[\"energy\"]\n",
    "device = default_ctx.device\n",
    "dataset_info = default_ctx.dataset_info\n",
    "d = dataset_info.dimension"
   ]
  },
  {
   "cell_type": "markdown",
   "id": "c8785efa-d815-4ca2-9019-91bdc3e4cd20",
   "metadata": {},
   "source": [
    "## Compare denoising performance"
   ]
  },
  {
   "cell_type": "code",
   "execution_count": 69,
   "id": "7f3f1812-7d2d-44e0-a793-343b349e56b9",
   "metadata": {},
   "outputs": [
    {
     "data": {
      "image/png": "[encoded data removed]",
      "text/plain": [
       "<Figure size 400x300 with 1 Axes>"
      ]
     },
     "metadata": {},
     "output_type": "display_data"
    }
   ],
   "source": [
    "t = default_ctx.test_perf.noise_levels.variance.cpu()\n",
    "energy_mse = ctxs[\"energy\"].test_perf.denoising_errors.mse.cpu()\n",
    "denoiser_mse = ctxs[\"denoiser\"].test_perf.denoising_errors.mse.cpu()\n",
    "\n",
    "plt.figure(figsize=(4, 3), layout=\"constrained\")\n",
    "plt.plot(t, denoiser_mse, color=\"tab:blue\", marker=\".\", label=\"Score network\")\n",
    "plt.plot(t, energy_mse, color=\"tab:red\", linestyle=\"dashed\", marker=\".\", label=\"Energy network\")\n",
    "plt.plot(t, t, color=\"black\", label=\"Identity\", zorder=-1)\n",
    "plt.plot(t, torch.full_like(t, default_ctx.dataset_info.variance), color=\"gray\", label=\"Data variance\", zorder=-1)\n",
    "plt.xlabel(\"Noise variance $t$\")\n",
    "plt.xscale(\"log\")\n",
    "plt.xlim(1e-9, 1e3)\n",
    "# plt.xticks(10. ** np.arange(-9, 4), fontsize=8)\n",
    "plt.ylabel(\"Denoising MSE\")\n",
    "plt.yscale(\"log\")\n",
    "plt.ylim(5e-10, 2e0)\n",
    "plt.title(\"Denoising MSE of energy and score networks\")\n",
    "plt.legend()\n",
    "plt.savefig(\"outputs/denoising_performance.pdf\", transparent=True, bbox_inches=\"tight\", pad_inches=0)\n",
    "plt.show()"
   ]
  },
  {
   "cell_type": "code",
   "execution_count": 64,
   "id": "668b6462-8f58-4f7f-af60-1651187fae3d",
   "metadata": {},
   "outputs": [
    {
     "name": "stdout",
     "output_type": "stream",
     "text": [
      "Noise variance & $90$ & $75$ & $60$ & $45$ & $30$ & $15$ & $-0$ & $-15$ & $-30$ \\\\\n",
      "\\midrule\n",
      "Score network & $90.20$ & $75.47$ & $60.43$ & $47.19$ & $35.58$ & $25.92$ & $18.84$ & $13.31$ & $-0.11$ \\\\\n",
      "Energy network & $90.09$ & $75.17$ & $60.45$ & $47.25$ & $35.67$ & $26.01$ & $18.88$ & $13.48$ & $2.53$ \\\\\n"
     ]
    }
   ],
   "source": [
    "f = lambda x, p, t: print(\" & \".join([t] + [f\"${y:.{p}f}$\" for y in -10 * torch.log10(torch.flip(x, [0])[::2])]) + r\" \\\\\")\n",
    "f(t, 0, \"Noise variance\")\n",
    "print(r\"\\midrule\")\n",
    "f(denoiser_mse, 2, \"Score network\")\n",
    "f(energy_mse, 2, \"Energy network\")"
   ]
  }
 ],
 "metadata": {
  "kernelspec": {
   "display_name": "default",
   "language": "python",
   "name": "default"
  }
 },
 "nbformat": 4,
 "nbformat_minor": 5
}
